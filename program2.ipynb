{
  "nbformat": 4,
  "nbformat_minor": 0,
  "metadata": {
    "colab": {
      "provenance": [],
      "authorship_tag": "ABX9TyPdLidMu5TMyZWqz3LqK4E7",
      "include_colab_link": true
    },
    "kernelspec": {
      "name": "python3",
      "display_name": "Python 3"
    },
    "language_info": {
      "name": "python"
    }
  },
  "cells": [
    {
      "cell_type": "markdown",
      "metadata": {
        "id": "view-in-github",
        "colab_type": "text"
      },
      "source": [
        "<a href=\"https://colab.research.google.com/github/naveenmk404/test/blob/main/program2.ipynb\" target=\"_parent\"><img src=\"https://colab.research.google.com/assets/colab-badge.svg\" alt=\"Open In Colab\"/></a>"
      ]
    },
    {
      "cell_type": "code",
      "execution_count": null,
      "metadata": {
        "id": "RmsqxXwEXik6"
      },
      "outputs": [],
      "source": [
        "class Dog:\n",
        "    def __init__(self,name,size,breed='unknown',dob='unknown'):\n",
        "\n",
        "        self.setName(name)\n",
        "        self.size=size\n",
        "        self.breed=breed\n",
        "        self.dob=dob\n",
        "\n",
        "    def bark(self):\n",
        "        print(\"woof!\")\n",
        "\n",
        "    def getName(self):\n",
        "        return self.name\n",
        "\n",
        "    def setName(self,name):\n",
        "\n",
        "        if(2<=(self.name) <=30 and name.isalpha()) :\n",
        "            name=self.name.title()\n",
        "        else :\n",
        "            print(\"Invalid name\")\n",
        "\n",
        "    def dog_years(self):\n",
        "        return 7*(2023-int(self.dob[-4:]))\n",
        "\n",
        "mydog = Dog('rock','medium','pug', '01/01/2022')\n",
        "\n",
        "mydog.bark()\n",
        "mydog.getName()\n",
        "mydog.setName('Rock')\n",
        "mydog.setName()"
      ]
    }
  ]
}